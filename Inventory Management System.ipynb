{
 "cells": [
  {
   "cell_type": "code",
   "execution_count": 10,
   "id": "ec348247-dc56-4c73-8243-ac85b9ff78c1",
   "metadata": {},
   "outputs": [],
   "source": [
    "import json\n",
    "\n",
    "record = {1001:{'Name':\"5 Star\", 'Price': 10, 'Qn': 200, 'GST':18},\n",
    "          1002:{'Name':\"Bar-One\", 'Price': 20, 'Qn': 100, 'GST':18},\n",
    "          1003:{'Name':\"Candy\", 'Price': 2, 'Qn': 1000, 'GST':12},\n",
    "          1004:{'Name':\"Chocolate Cake\", 'Price': 550, 'Qn': 8, 'GST':18},\n",
    "          1005:{'Name':\"Blueberry Cake\", 'Price': 650, 'Qn': 5, 'GST':18},\n",
    "          1006:{'Name':\"Amul Cheese 200 gm\", \"Price\": 260, 'Qn': 10, 'GST':12},\n",
    "          1007:{'Name':\"Amul Milk 500 gm\", \"Price\": 30, 'Qn': 20, 'GST':5},\n",
    "          1008:{'Name':\"Aashirvaad Aata 1 kg\", \"Price\": 70, 'Qn': 30, 'GST':5},\n",
    "          1009:{'Name':\"Maggie-14Rs\", \"Price\": 14, 'Qn': 50, 'GST':12},\n",
    "          1010:{'Name':\"Lays-Sour Cream And Onion-20Rs\", \"Price\": 20, 'Qn': 50, 'GST':12}}\n",
    "          \n",
    "          \n",
    "          \n",
    "js = json.dumps(record)\n",
    "fd = open(\"Record.json\", 'w')\n",
    "fd.write(js)\n",
    "fd.close()"
   ]
  },
  {
   "cell_type": "code",
   "execution_count": 13,
   "id": "a877c379-7d6e-4fbb-b149-0923d201bf46",
   "metadata": {},
   "outputs": [
    {
     "name": "stdout",
     "output_type": "stream",
     "text": [
      "------------------MENU---------------------\n",
      "\n",
      "1001 : 5 Star | 10 | 200 | 18\n",
      "1002 : Bar-One | 20 | 100 | 18\n",
      "1003 : Candy | 2 | 1000 | 12\n",
      "1004 : Chocolate Cake | 550 | 0 | 18\n",
      "1005 : Blueberry Cake | 650 | 5 | 18\n",
      "1006 : Amul Cheese 200 gm | 260 | 10 | 12\n",
      "1007 : Amul Milk 500 gm | 30 | 20 | 5\n",
      "1008 : Aashirvaad Aata 1 kg | 70 | 30 | 5\n",
      "1009 : Maggie-14Rs | 14 | 44 | 12\n",
      "1010 : Lays-Sour Cream And Onion-20Rs | 20 | 48 | 12\n",
      "-------------------------------------------\n",
      "\n"
     ]
    },
    {
     "name": "stdin",
     "output_type": "stream",
     "text": [
      "Enter your name      :  Rohan\n",
      "Enter your mail      :  rohan@gmail.com\n",
      "Enter your mobile no.:  5693217803\n",
      "Enter Product ID (press 'N' or 'n' if you don't want to continue purchase.):  1004\n",
      "Enter Quantity       :  4\n"
     ]
    },
    {
     "name": "stdout",
     "output_type": "stream",
     "text": [
      "We are out of stock!!\n"
     ]
    },
    {
     "name": "stdin",
     "output_type": "stream",
     "text": [
      "Enter Product ID (press 'N' or 'n' if you don't want to continue purchase.):  1008\n",
      "Enter Quantity       :  6\n",
      "Enter Product ID (press 'N' or 'n' if you don't want to continue purchase.):  1009\n",
      "Enter Quantity       :  6\n",
      "Enter Product ID (press 'N' or 'n' if you don't want to continue purchase.):  n\n"
     ]
    },
    {
     "name": "stdout",
     "output_type": "stream",
     "text": [
      "-------------------------------------------\n",
      "                   BILL                    \n",
      "\n",
      "Name                :  Aashirvaad Aata 1 kg\n",
      "Price               :  70 Rs\n",
      "Quantity            :  6\n",
      "GST                 :  5 % \n",
      "\n",
      "Name                :  Maggie-14Rs\n",
      "Price               :  14 Rs\n",
      "Quantity            :  6\n",
      "GST                 :  12 % \n",
      "\n",
      "-------------------------------------------\n",
      "Discount            :  0  %\n",
      "Billing Amount      :  535.08 Rs\n",
      "-------------------------------------------\n",
      "\n",
      "-------------------------------------------\n",
      "             Inventory Updated             \n",
      "-------------------------------------------\n"
     ]
    }
   ],
   "source": [
    "#Impoprting Libraries\n",
    "import json\n",
    "import time\n",
    "\n",
    "def discount(Total_Bill):\n",
    "    \n",
    "    discount = 0\n",
    "    if Total_Bill>=5000:\n",
    "        discount = 10\n",
    "        Total_Bill = Total_Bill - 0.1*Total_Bill\n",
    "    elif Total_Bill >=10000:\n",
    "        discount = 15\n",
    "        Total_Bill = Total_Bill - 0.15*Total_Bill\n",
    "    elif Total_Bill >=15000:\n",
    "        discount = 17\n",
    "        Total_Bill = Total_Bill - 0.17*Total_Bill\n",
    "    elif Total_Bill >=20000:\n",
    "        discount = 20\n",
    "        Total_Bill = Total_Bill - 0.2*Total_Bill\n",
    "    elif Total_Bill>=30000:\n",
    "        discount = 30\n",
    "        Total_Bill = Total_Bill - 0.3*Total_Bill\n",
    "\n",
    "    return discount, Total_Bill \n",
    "\n",
    "#Loading the Inventory from JSON file as String\n",
    "fd = open(\"Record.json\")\n",
    "js = fd.read()\n",
    "fd.close()\n",
    "\n",
    "#Converting String Records to JSON/Dictionaries\n",
    "record = json.loads(js)\n",
    "\n",
    "sale=[]\n",
    "\n",
    "purchases={}\n",
    "\n",
    "#Displaying Menu\n",
    "print('------------------MENU---------------------\\n')\n",
    "for key in record.keys():\n",
    "    print(key,\":\", record[key]['Name'],'|',record[key]['Price'],'|',record[key]['Qn'],'|',record[key]['GST'])\n",
    "\n",
    "#Taking inputs from the user: User Details and the Details of the Product, which the User wishes to purchase\n",
    "print('-------------------------------------------\\n')\n",
    "ui_name=input(\"Enter your name      : \")\n",
    "ui_mail=input(\"Enter your mail      : \")\n",
    "ui_mobile=input(\"Enter your mobile no.: \")\n",
    "while True:\n",
    "    ui_pr = input(\"Enter Product ID (press 'N' or 'n' if you don't want to continue purchase.): \")\n",
    "\n",
    "    if(ui_pr not in record.keys() or ui_pr=='n' or ui_pr=='N'):\n",
    "        break;\n",
    "    \n",
    "    ui_qn = int(input(\"Enter Quantity       : \"))\n",
    "\n",
    "    while(ui_qn<=0):\n",
    "        ui_qn=int(input(\"Please enter valid quantity for purchase of the product: \"))\n",
    "\n",
    "    #Checking if required product exists in the inventory in the required amount or not\n",
    "    if ui_qn <= record[ui_pr]['Qn']:\n",
    "        purchases[ui_pr]=ui_qn\n",
    "        #Generating Sales Structure in CSV\n",
    "        sale.append(ui_name+','+ui_mail+','+ui_mobile+','+ui_pr+','+record[ui_pr]['Name']+','+str(record[ui_pr][\"Price\"])+','+str(ui_qn)+','+str(record[ui_pr][\"GST\"])+\",\"+str(round((ui_qn*record[ui_pr]['Price']*(1+record[ui_pr][\"GST\"]/100)),2))+','+time.ctime()+'\\n')\n",
    "        #Updating Record\n",
    "        record[ui_pr]['Qn']-=ui_qn\n",
    "\n",
    "    #If required product does not exist in the inventory in the required amount \n",
    "    elif record[ui_pr]['Qn']!=0:\n",
    "        print(\"Apologies! We do not have the required quantity of the product. We have only\",record[ui_pr]['Qn'],'pieces.')\n",
    "        print('Would you like to buy the product in the available quantity')\n",
    "        ch = input(\"Enter Y/y for yes, and N/n for no: \")\n",
    "\n",
    "        #Asking the user if they wish to purchase the same product in the available quantity\n",
    "        if(ch=='y' or ch=='Y'):\n",
    "            purchases[ui_pr]=record[ui_pr]['Qn']\n",
    "            #Generating Sales Structure in CSV\n",
    "            sale.append(ui_name+','+ui_mail+','+ui_mobile+','+ui_pr+','+record[ui_pr]['Name']+','+str(record[ui_pr][\"Price\"])+','+str(record[ui_pr]['Qn'])+ ','+str(record[ui_pr][\"GST\"])+\",\"+str(round((record[ui_pr]['Qn']*record[ui_pr]['Price']*(1+record[ui_pr][\"GST\"]/100)),2))+','+time.ctime()+'\\n')\n",
    "            #Updating Record\n",
    "            record[ui_pr]['Qn']=0\n",
    "\n",
    "    #If we do not have the stock available for a particular product\n",
    "    else: \n",
    "         print(\"We are out of stock!!\")\n",
    "\n",
    "\n",
    "#Checking if the customer made any purchases or not\n",
    "if not purchases:\n",
    "    print(\"Thank You!!\")\n",
    "#If the customer made any purchase(s) \n",
    "else:\n",
    "    Total_Bill=0\n",
    "    #Generating Bill \n",
    "    print('-------------------------------------------')\n",
    "    print('                   BILL                    \\n')\n",
    "\n",
    "    for key, value in purchases.items():\n",
    "        print('Name                : ',record[key][\"Name\"])\n",
    "        print('Price               : ',record[key][\"Price\"],'Rs')\n",
    "        print('Quantity            : ',value)\n",
    "        print('GST                 : ',record[key][\"GST\"],'%', '\\n')\n",
    "        Total_Bill= Total_Bill+ (record[key][\"Price\"]*value*(1+record[key][\"GST\"]/100))\n",
    "        \n",
    "    \n",
    "        \n",
    "    print('-------------------------------------------')\n",
    "\n",
    "    Discount, Discounted_Price = discount(Total_Bill)\n",
    "    print('Discount            : ', Discount,' %')\n",
    "    print('Billing Amount      : ', Discounted_Price,'Rs')\n",
    "    print('-------------------------------------------\\n')\n",
    "    print('-------------------------------------------')\n",
    "    print('             Inventory Updated             ')\n",
    "    print('-------------------------------------------')\n",
    "\n",
    "    sale.append('\\n')\n",
    "    \n",
    "#Converting Dictionary to String\n",
    "js=json.dumps(record)\n",
    "\n",
    "#Updating my Inventory File\n",
    "fd = open(\"Record.json\",'w')\n",
    "fd.write(js)\n",
    "fd.close()\n",
    "\n",
    "#Saving Sales Record in Transactions.txt\n",
    "fd = open('Transactions.txt','a')\n",
    "fd.writelines(sale)\n",
    "fd.close()\n"
   ]
  },
  {
   "cell_type": "code",
   "execution_count": 1,
   "id": "f7b03f68-b384-458b-9c66-b49f383f08e2",
   "metadata": {},
   "outputs": [
    {
     "ename": "NameError",
     "evalue": "name 'js' is not defined",
     "output_type": "error",
     "traceback": [
      "\u001b[1;31m---------------------------------------------------------------------------\u001b[0m",
      "\u001b[1;31mNameError\u001b[0m                                 Traceback (most recent call last)",
      "Cell \u001b[1;32mIn[1], line 1\u001b[0m\n\u001b[1;32m----> 1\u001b[0m \u001b[43mjs\u001b[49m\n",
      "\u001b[1;31mNameError\u001b[0m: name 'js' is not defined"
     ]
    }
   ],
   "source": [
    "js"
   ]
  },
  {
   "cell_type": "code",
   "execution_count": 16,
   "id": "e2a7f027-a33f-43f7-a7bc-6dce3347f067",
   "metadata": {},
   "outputs": [
    {
     "data": {
      "text/plain": [
       "['shweta,sfg@gmail.com,1234567890,1001,5 Star,10,40,400,Sat Apr 27 00:30:33 2024\\n',\n",
       " 'shweta,sfg@gmail.com,1234567890,1002,Bar-One,20,10,200,Sat Apr 27 00:30:42 2024\\n']"
      ]
     },
     "execution_count": 16,
     "metadata": {},
     "output_type": "execute_result"
    }
   ],
   "source": [
    "sale"
   ]
  },
  {
   "cell_type": "code",
   "execution_count": 19,
   "id": "467d11d2-831b-40d4-aab7-946cd550a577",
   "metadata": {},
   "outputs": [],
   "source": [
    "\n"
   ]
  },
  {
   "cell_type": "code",
   "execution_count": 20,
   "id": "1b1a6498-c8ed-4b24-bf4b-9151eff0ea39",
   "metadata": {},
   "outputs": [
    {
     "name": "stdout",
     "output_type": "stream",
     "text": [
      " Volume in drive C is OS\n",
      " Volume Serial Number is 845C-BED2\n",
      "\n",
      " Directory of C:\\Users\\ASUS\\Desktop\\jupyter\n",
      "\n",
      "04/03/2024  01:29 PM    <DIR>          .\n",
      "04/02/2024  09:52 AM    <DIR>          ..\n",
      "04/01/2024  08:44 PM    <DIR>          .ipynb_checkpoints\n",
      "03/31/2024  02:11 PM             2,720 covid.txt\n",
      "03/31/2024  02:56 PM               121 data.txt\n",
      "03/31/2024  02:48 PM                30 data1.txt\n",
      "03/30/2024  12:47 PM               617 gene.ipynb\n",
      "04/03/2024  01:27 PM             4,585 Inventory Management System.ipynb\n",
      "04/01/2024  09:00 PM             5,756 Inventory Management.ipynb\n",
      "04/01/2024  07:43 PM                61 Inventory.txt\n",
      "04/03/2024  01:29 PM               273 Record.json\n",
      "04/01/2024  07:43 PM               202 Sales.txt\n",
      "03/31/2024  03:43 PM            20,155 Untitled.ipynb\n",
      "              10 File(s)         34,520 bytes\n",
      "               3 Dir(s)  280,396,812,288 bytes free\n"
     ]
    }
   ],
   "source": [
    "ls"
   ]
  },
  {
   "cell_type": "code",
   "execution_count": 3,
   "id": "95fc32f3-07ec-459f-acfa-9f472d7f8e72",
   "metadata": {},
   "outputs": [],
   "source": [
    "with open(\"a.txt\", 'a') as f:\n",
    "    f.writelines([\"\\nMy name is shweta. \", \"My age is 23 yrs\"])"
   ]
  },
  {
   "cell_type": "code",
   "execution_count": 5,
   "id": "133c1c26-8fdd-409a-a7dd-9f21893ffdd7",
   "metadata": {},
   "outputs": [
    {
     "name": "stdout",
     "output_type": "stream",
     "text": [
      "['My name is shwetaMy name is shwetaMy age is 23 yrs\\n', 'My name is shweta. My age is 23 yrs']\n"
     ]
    }
   ],
   "source": [
    "with open(\"a.txt\", 'r') as f:\n",
    "    content = f.readlines()\n",
    "\n",
    "print(content)"
   ]
  },
  {
   "cell_type": "code",
   "execution_count": null,
   "id": "d265dc8b-9ae8-44ee-a59d-e1e7dd1766fe",
   "metadata": {},
   "outputs": [],
   "source": []
  },
  {
   "cell_type": "code",
   "execution_count": null,
   "id": "a9f192ad-b86a-4956-99e2-1085f71c9b80",
   "metadata": {},
   "outputs": [],
   "source": []
  }
 ],
 "metadata": {
  "kernelspec": {
   "display_name": "Python 3 (ipykernel)",
   "language": "python",
   "name": "python3"
  },
  "language_info": {
   "codemirror_mode": {
    "name": "ipython",
    "version": 3
   },
   "file_extension": ".py",
   "mimetype": "text/x-python",
   "name": "python",
   "nbconvert_exporter": "python",
   "pygments_lexer": "ipython3",
   "version": "3.12.2"
  }
 },
 "nbformat": 4,
 "nbformat_minor": 5
}
